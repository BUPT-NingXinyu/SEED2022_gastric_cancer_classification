{
 "cells": [
  {
   "cell_type": "markdown",
   "id": "5fca4960-b62e-4fdb-9d9d-b3c78f4ea6dd",
   "metadata": {},
   "source": [
    "# json 标注中的点 存为 npy文件"
   ]
  },
  {
   "cell_type": "code",
   "execution_count": 1,
   "id": "7c6a413a-5790-4692-9ba6-95459509df01",
   "metadata": {},
   "outputs": [],
   "source": [
    "import json\n",
    "import os\n",
    "\n",
    "import numpy as np\n",
    "\n",
    "def json2point_npy(path, save_path):\n",
    "    file_list = os.listdir(path)\n",
    "    for json_name in file_list:\n",
    "        tem_json_name = json_name.split('.')[0]\n",
    "        j_path = os.path.join(path, json_name)\n",
    "        f = open(j_path, 'r', encoding='utf-8')\n",
    "        annotation = json.load(f)\n",
    "        for idx, item in enumerate(annotation['contexts']):\n",
    "            tem_list = []\n",
    "            for coordinate in item['points']:\n",
    "                tem_list.append([coordinate['x'], coordinate['y']])\n",
    "            if not os.path.exists(os.path.join(save_path, tem_json_name)):\n",
    "                os.makedirs(os.path.join(save_path, tem_json_name))\n",
    "            region = np.array(tem_list)\n",
    "            np.save(os.path.join(save_path, tem_json_name, f\"{tem_json_name}_{idx}\"), region)"
   ]
  },
  {
   "cell_type": "code",
   "execution_count": 2,
   "id": "750eae2a-af6a-4f80-be8f-cb56eeca3345",
   "metadata": {},
   "outputs": [],
   "source": [
    "paths = [[r'E:\\3rdSEED\\t1\\含T1标注的json',r'D:\\AI\\3rdSEED\\SEED2022_gastric_cancer_classification\\npy\\T1'],\n",
    "         [r'E:\\3rdSEED\\t2\\含T2标注的json',r'D:\\AI\\3rdSEED\\SEED2022_gastric_cancer_classification\\npy\\T2'],\n",
    "         [r'E:\\3rdSEED\\t3\\含T3标注的json',r'D:\\AI\\3rdSEED\\SEED2022_gastric_cancer_classification\\npy\\T3'],\n",
    "         [r'E:\\3rdSEED\\tis\\含Tis标注的json',r'D:\\AI\\3rdSEED\\SEED2022_gastric_cancer_classification\\npy\\Tis'],\n",
    "         [r'E:\\3rdSEED\\test\\test\\json',r'D:\\AI\\3rdSEED\\SEED2022_gastric_cancer_classification\\npy\\Test'],\n",
    "        ]\n",
    "\n",
    "for i in range(len(paths)):\n",
    "    json_path, point_path = paths[i]\n",
    "    json2point_npy(json_path, point_path)"
   ]
  },
  {
   "cell_type": "code",
   "execution_count": null,
   "id": "8f59925a-4503-4400-b353-e132714f3fb5",
   "metadata": {},
   "outputs": [],
   "source": []
  }
 ],
 "metadata": {
  "kernelspec": {
   "display_name": "Python 3 (ipykernel)",
   "language": "python",
   "name": "python3"
  },
  "language_info": {
   "codemirror_mode": {
    "name": "ipython",
    "version": 3
   },
   "file_extension": ".py",
   "mimetype": "text/x-python",
   "name": "python",
   "nbconvert_exporter": "python",
   "pygments_lexer": "ipython3",
   "version": "3.7.13"
  }
 },
 "nbformat": 4,
 "nbformat_minor": 5
}
