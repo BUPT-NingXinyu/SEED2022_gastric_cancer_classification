{
 "cells": [
  {
   "cell_type": "markdown",
   "id": "dd7dbaf2-9934-4126-97e5-ae8ddb43fb3e",
   "metadata": {},
   "source": [
    "# T1 T2 T3 Tis 类生成 patch"
   ]
  },
  {
   "cell_type": "code",
   "execution_count": 8,
   "id": "4804a685-e495-4232-b2ee-fba7b2ca775c",
   "metadata": {},
   "outputs": [
    {
     "name": "stdout",
     "output_type": "stream",
     "text": [
      "processing T1 .......\n"
     ]
    },
    {
     "name": "stderr",
     "output_type": "stream",
     "text": [
      "100%|██████████████████████████████████████████████████████████████████████████████████| 17/17 [02:33<00:00,  9.05s/it]\n"
     ]
    },
    {
     "name": "stdout",
     "output_type": "stream",
     "text": [
      "processing T2 .......\n"
     ]
    },
    {
     "name": "stderr",
     "output_type": "stream",
     "text": [
      "100%|██████████████████████████████████████████████████████████████████████████████████| 26/26 [02:40<00:00,  6.17s/it]\n"
     ]
    },
    {
     "name": "stdout",
     "output_type": "stream",
     "text": [
      "processing T3 .......\n"
     ]
    },
    {
     "name": "stderr",
     "output_type": "stream",
     "text": [
      "100%|██████████████████████████████████████████████████████████████████████████████████| 25/25 [01:45<00:00,  4.22s/it]\n"
     ]
    },
    {
     "name": "stdout",
     "output_type": "stream",
     "text": [
      "processing Tis .......\n"
     ]
    },
    {
     "name": "stderr",
     "output_type": "stream",
     "text": [
      "100%|██████████████████████████████████████████████████████████████████████████████████| 30/30 [03:04<00:00,  6.14s/it]\n"
     ]
    }
   ],
   "source": [
    "import glob\n",
    "import os\n",
    "import numpy as np\n",
    "import openslide\n",
    "import cv2\n",
    "from tqdm import tqdm\n",
    "\n",
    "dir_list = ['T1', 'T2', 'T3', 'Tis']\n",
    "level = 2\n",
    "edge = 512\n",
    "\n",
    "for temp in dir_list:\n",
    "    wsi_path = f'E:/3rdSEED/svs/{temp}'\n",
    "    patch_path = f'D:/AI/3rdSEED/SEED2022_gastric_cancer_classification/data/{temp}_patch'\n",
    "    ann_path = f'D:/AI/3rdSEED/SEED2022_gastric_cancer_classification/npy/{temp}'\n",
    "    wsi_name_list = os.listdir(ann_path)\n",
    "    \n",
    "    print(f\"processing {temp} .......\")\n",
    "\n",
    "    for i in range(len(wsi_name_list)):\n",
    "        wsi_name_list[i] = wsi_name_list[i] + '.svs'\n",
    "\n",
    "    for item in tqdm(wsi_name_list):      # item 是svs的文件名\n",
    "        slide = openslide.OpenSlide(os.path.join(wsi_path, item))  # 获取 svs 图片\n",
    "        down_sample_rate = int(slide.level_downsamples[level])\n",
    "        judge_edge = int(edge/down_sample_rate)\n",
    "        \n",
    "        drop_suffix = item.split('.')[0]\n",
    "        save_path = os.path.join(patch_path, drop_suffix)\n",
    "        if not os.path.exists(save_path):\n",
    "            os.makedirs(save_path)\n",
    "        npy_path = glob.glob(os.path.join(ann_path, drop_suffix, '*.npy'))\n",
    "        region_num = len(npy_path)\n",
    "        region_points = []\n",
    "        # 一次取一个标注区域，在该区域中取 50 个 patch\n",
    "        anno_num = 0\n",
    "        for it in npy_path:\n",
    "            region_points = [(np.load(it)/slide.level_downsamples[level]).astype(np.int32)]\n",
    "            region_points = np.array(region_points)\n",
    "\n",
    "            W, H = slide.level_dimensions[level]\n",
    "            mask = np.zeros((H, W))\n",
    "            cv2.fillPoly(mask, region_points, 255)\n",
    "            x, y = np.where(mask)\n",
    "            all_point = np.stack(np.vstack((x, y)), axis=1)\n",
    "            sample_num = 500\n",
    "            if all_point.shape[0] > sample_num:\n",
    "                sample_point = all_point[np.random.randint(all_point.shape[0], size=sample_num), :]\n",
    "            else:\n",
    "                sample_point = all_point\n",
    "            save_num = 0\n",
    "            for idx, (x, y) in enumerate(sample_point):\n",
    "                # print('-------------------------')\n",
    "                # print(f'{drop_suffix}_Anno{anno_num}_{idx}')\n",
    "                # print('edge',edge)\n",
    "                # print('y',y)\n",
    "                # print('W',W)\n",
    "                # print('x',x)\n",
    "                # print('H',H)\n",
    "                # print('-------------------------')\n",
    "                if save_num < 40:\n",
    "                    if y + edge/2 > W or x + edge/2 > H or mask[x+judge_edge, y] == 0 or mask[x, y+judge_edge] == 0 or mask[x+judge_edge, y+judge_edge] == 0:\n",
    "                        continue\n",
    "                    else:\n",
    "                        img = slide.read_region((int(np.max((y-edge/2)*down_sample_rate,0)), int(np.max((x-edge/2)*down_sample_rate,0))), level, (edge, edge))\n",
    "                        # 有色区域大于一定比例的图片保留\n",
    "                        img_gray = cv2.cvtColor(np.array(img)[:, :, :3].astype(np.uint8), cv2.COLOR_BGR2GRAY)\n",
    "                        ret, thresh = cv2.threshold(img_gray, 200, 255, cv2.THRESH_BINARY_INV)\n",
    "                        # cv2.imshow('thresh',thresh)\n",
    "                        # cv2.waitKey(0)\n",
    "                        # print(len(np.where(thresh)[0]))\n",
    "                        # print('0.2*H*W',0.2*H*W)\n",
    "                        if(len(np.where(thresh)[0])>0.1*edge*edge):\n",
    "                            img.save(os.path.join(save_path, f'{drop_suffix}_Anno{anno_num}_{idx}.png'))\n",
    "                            save_num += 1\n",
    "                else:\n",
    "                    break\n",
    "                            \n",
    "            anno_num += 1\n"
   ]
  },
  {
   "cell_type": "markdown",
   "id": "2491377b-7713-4582-8b45-feaddfc97951",
   "metadata": {},
   "source": [
    "# T0 类生成 patch"
   ]
  },
  {
   "cell_type": "code",
   "execution_count": 2,
   "id": "ad8a69a7-fb95-4e93-8402-4748d5b90774",
   "metadata": {},
   "outputs": [
    {
     "name": "stderr",
     "output_type": "stream",
     "text": [
      "100%|██████████████████████████████████████████████████████████████████████████████| 200/200 [1:16:16<00:00, 22.88s/it]\n"
     ]
    }
   ],
   "source": [
    "import os\n",
    "import openslide\n",
    "import random\n",
    "from tqdm import tqdm\n",
    "import cv2\n",
    "import numpy as np\n",
    "\n",
    "path = r'E:/3rdSEED/svs/T0'\n",
    "svs_file = os.listdir(path)\n",
    "save = r'D:/AI/3rdSEED/SEED2022_gastric_cancer_classification/data/T0_patch'\n",
    "\n",
    "level = 2\n",
    "edge = 512\n",
    "\n",
    "# 读取到边界时，将边界以外的透明区域转换为白色。\n",
    "def transparence2white(img):  \n",
    "    sp = img.shape  # 获取图片维度\n",
    "    width = sp[0]  # 宽度\n",
    "    height = sp[1]  # 高度\n",
    "    for yh in range(height):\n",
    "        for xw in range(width):\n",
    "            color_d = img[xw, yh]  # 遍历图像每一个点，获取到每个点4通道的颜色数据\n",
    "            if (color_d[3] == 0):  # 最后一个通道为透明度，如果其值为0，即图像是透明\n",
    "                img[xw, yh] = [255, 255, 255, 255]  # 则将当前点的颜色设置为白色，且图像设置为不透明\n",
    "    return img\n",
    "\n",
    "for svs in tqdm(svs_file):\n",
    "    svs_drop_f = svs.split('.')[0]\n",
    "    svs_path = os.path.join(path, svs)\n",
    "    slide = openslide.OpenSlide(svs_path)\n",
    "    if len(slide.level_downsamples)<=level:\n",
    "        level = len(slide.level_downsamples)-1\n",
    "    else:\n",
    "        level = 2\n",
    "    down_sample_rate = int(slide.level_downsamples[level])\n",
    "    judge_edge = int(edge/down_sample_rate)\n",
    "    \n",
    "    #print(\"kk\", svs_drop_f)\n",
    "    H, W = slide.level_dimensions[level]\n",
    "    #print(H, W)\n",
    "    list_x = [i for i in range(H)]\n",
    "    list_y = [i for i in range(H)]\n",
    "    random.shuffle(list_x)\n",
    "    random.shuffle(list_y)\n",
    "    save_path = os.path.join(save, svs_drop_f)\n",
    "    #print('debug')\n",
    "    #print(svs_drop_f)\n",
    "    if not os.path.exists(save_path):\n",
    "        os.makedirs(save_path)\n",
    "    save_num = 0\n",
    "    for idx in range(500):\n",
    "        if save_num<40:\n",
    "            if list_x[idx] + judge_edge > H or list_y[idx] + judge_edge> W:\n",
    "                continue\n",
    "            else:\n",
    "                img = slide.read_region((list_x[idx]*down_sample_rate, list_y[idx]*down_sample_rate), level, (edge, edge))\n",
    "                # 有色区域大于一定比例的图片保留\n",
    "                np_img = np.array(img)[:, :, :4].astype(np.uint8)\n",
    "                transparence2white(np_img)\n",
    "                np_img = np_img[:, :, :3]\n",
    "                img_gray = cv2.cvtColor(np_img, cv2.COLOR_BGR2GRAY)\n",
    "                ret, thresh = cv2.threshold(img_gray, 200, 255, cv2.THRESH_BINARY_INV)\n",
    "                # cv2.imshow('img_gray',img_gray)\n",
    "                # cv2.imshow('thresh',thresh)\n",
    "                # cv2.waitKey(0)\n",
    "                # print(len(np.where(thresh)[0]))\n",
    "                # print('0.1*edge*edge',0.1*edge*edge)\n",
    "                if(len(np.where(thresh)[0])>0.1*edge*edge):\n",
    "                    img.save(os.path.join(save_path, f'{svs_drop_f}_{save_num}.png'))\n",
    "                    save_num += 1\n",
    "        else:\n",
    "            break"
   ]
  },
  {
   "cell_type": "markdown",
   "id": "01f01434-e62f-4d0b-9dd2-365c21a1e1a1",
   "metadata": {},
   "source": [
    "# Test 类 生成 patch"
   ]
  },
  {
   "cell_type": "code",
   "execution_count": 19,
   "id": "3ac89730-8d39-4b5f-adb6-9390942ad5f4",
   "metadata": {},
   "outputs": [
    {
     "name": "stderr",
     "output_type": "stream",
     "text": [
      "100%|██████████████████████████████████████████████████████████████████████████████████| 42/42 [26:07<00:00, 37.33s/it]\n"
     ]
    }
   ],
   "source": [
    "import os\n",
    "import openslide\n",
    "import numpy as np\n",
    "import cv2\n",
    "from tqdm import tqdm\n",
    "\n",
    "\n",
    "svs_path = r'E:/3rdSEED/svs/Test'\n",
    "root_path = r'D:/AI/3rdSEED/SEED2022_gastric_cancer_classification/npy/Test'\n",
    "save_p = r'D:/AI/3rdSEED/SEED2022_gastric_cancer_classification/Test_patch'\n",
    "\n",
    "level = 2\n",
    "edge = 512\n",
    "sample_num = 500\n",
    "\n",
    "file_list = os.listdir(root_path)\n",
    "for file_name in tqdm(file_list):\n",
    "    file_path = os.path.join(root_path, file_name)      # F:\\svs\\含Test标注的npy\\4mF7tL\n",
    "    annotation_list = os.listdir(file_path)\n",
    "    for annotation_name in annotation_list:\n",
    "        annotation_path = os.path.join(file_path, annotation_name)\n",
    "        save_path = os.path.join(save_p, file_name, annotation_name.split('.')[0].replace(' ', ''))\n",
    "        if not os.path.exists(save_path):\n",
    "            os.makedirs(save_path)\n",
    "\n",
    "        slide = openslide.OpenSlide(os.path.join(svs_path, f'{file_name}.svs'))\n",
    "        down_sample_rate = int(slide.level_downsamples[level])\n",
    "        judge_edge = int(edge/down_sample_rate)\n",
    "        \n",
    "        region_points = (np.load(annotation_path)/down_sample_rate).astype(np.int32)\n",
    "        \n",
    "        W, H = slide.level_dimensions[level]\n",
    "        mask = np.zeros((H, W))\n",
    "        cv2.fillConvexPoly(mask, region_points, 255)\n",
    "        x, y = np.where(mask)\n",
    "        all_point = np.stack(np.vstack((x, y)), axis=1)\n",
    "        if all_point.shape[0] == 0:\n",
    "            print(annotation_name)\n",
    "            continue\n",
    "        sample_point = all_point[np.random.randint(all_point.shape[0], size=sample_num), :]\n",
    "        save_num = 0\n",
    "        for idx, (x, y) in enumerate(sample_point):\n",
    "            if save_num<40:\n",
    "                if y + judge_edge > W or x + judge_edge > H or \\\n",
    "                mask[int(max(x-edge/8,0)), y] == 0 or \\\n",
    "                mask[x, int(max(y-edge/8,0))] == 0 or \\\n",
    "                mask[int(max(x-edge/8,0)), int(max(y-edge/8,0))] == 0 or\\\n",
    "                mask[int(min(x+edge/8,H-1)), y] == 0 or \\\n",
    "                mask[x, int(min(y+edge/8,W-1))] == 0 or \\\n",
    "                mask[int(min(x+edge/8,H-1)), int(min(y+edge/8,W-1))] == 0:\n",
    "                    continue\n",
    "                else:\n",
    "                    img = slide.read_region((int(np.max((y-edge/2)*down_sample_rate,0)), int(np.max((x-edge/2)*down_sample_rate,0))), level, (edge, edge))\n",
    "                    # 有色区域大于一定比例的图片保留\n",
    "                    np_img = np.array(img)[:, :, :4].astype(np.uint8)\n",
    "                    transparence2white(np_img)\n",
    "                    np_img = np_img[:, :, :3]\n",
    "                    img_gray = cv2.cvtColor(np_img, cv2.COLOR_BGR2GRAY)\n",
    "                    ret, thresh = cv2.threshold(img_gray, 200, 255, cv2.THRESH_BINARY_INV)\n",
    "                    if(len(np.where(thresh)[0])>0.1*edge*edge):\n",
    "                        img.save(os.path.join(save_path, f'{save_num}.png'))\n",
    "                        save_num += 1\n",
    "            else:\n",
    "                break\n"
   ]
  },
  {
   "cell_type": "markdown",
   "id": "c1a1b13e-41d5-4967-a282-2eb14ed4b8ea",
   "metadata": {},
   "source": [
    "# 文件夹合并"
   ]
  },
  {
   "cell_type": "markdown",
   "id": "6982db17-5f98-4229-953e-5a9d86f70ed3",
   "metadata": {},
   "source": [
    "合并前先删去data中的npy文件夹"
   ]
  },
  {
   "cell_type": "code",
   "execution_count": 20,
   "id": "06cb31c1-eccd-4394-80fb-38d30b114246",
   "metadata": {},
   "outputs": [
    {
     "name": "stdout",
     "output_type": "stream",
     "text": [
      "processing  T0_patch\n"
     ]
    },
    {
     "name": "stderr",
     "output_type": "stream",
     "text": [
      "100%|████████████████████████████████████████████████████████████████████████████████| 200/200 [08:08<00:00,  2.44s/it]\n"
     ]
    },
    {
     "name": "stdout",
     "output_type": "stream",
     "text": [
      "processing  T1_patch\n"
     ]
    },
    {
     "name": "stderr",
     "output_type": "stream",
     "text": [
      "100%|██████████████████████████████████████████████████████████████████████████████████| 17/17 [02:01<00:00,  7.17s/it]\n"
     ]
    },
    {
     "name": "stdout",
     "output_type": "stream",
     "text": [
      "processing  T2_patch\n"
     ]
    },
    {
     "name": "stderr",
     "output_type": "stream",
     "text": [
      "100%|██████████████████████████████████████████████████████████████████████████████████| 26/26 [02:12<00:00,  5.08s/it]\n"
     ]
    },
    {
     "name": "stdout",
     "output_type": "stream",
     "text": [
      "processing  T3_patch\n"
     ]
    },
    {
     "name": "stderr",
     "output_type": "stream",
     "text": [
      "100%|██████████████████████████████████████████████████████████████████████████████████| 25/25 [01:41<00:00,  4.05s/it]\n"
     ]
    },
    {
     "name": "stdout",
     "output_type": "stream",
     "text": [
      "processing  Tis_patch\n"
     ]
    },
    {
     "name": "stderr",
     "output_type": "stream",
     "text": [
      "100%|██████████████████████████████████████████████████████████████████████████████████| 30/30 [02:33<00:00,  5.12s/it]\n"
     ]
    }
   ],
   "source": [
    "import os\n",
    "import glob\n",
    "from PIL import Image\n",
    "from tqdm import tqdm\n",
    "\n",
    "sour_path = r'D:/AI/3rdSEED/SEED2022_gastric_cancer_classification/data'\n",
    "save_path = ['D:/AI/3rdSEED/SEED2022_gastric_cancer_classification/raw/T0',\n",
    "             'D:/AI/3rdSEED/SEED2022_gastric_cancer_classification/raw/T1', \n",
    "             'D:/AI/3rdSEED/SEED2022_gastric_cancer_classification/raw/T2', \n",
    "             'D:/AI/3rdSEED/SEED2022_gastric_cancer_classification/raw/T3', \n",
    "             'D:/AI/3rdSEED/SEED2022_gastric_cancer_classification/raw/Tis']\n",
    "t_patch_path = os.listdir(sour_path)\n",
    "for idx, t_path in enumerate(t_patch_path):\n",
    "    print('processing ',t_path)\n",
    "    if not os.path.exists(save_path[idx]):\n",
    "        os.makedirs(save_path[idx])\n",
    "    json_path = os.path.join(sour_path, t_path)\n",
    "    json_list = os.listdir(json_path)\n",
    "    for item in tqdm(json_list):\n",
    "        temp = os.path.join(json_path, item, '*.png')\n",
    "        img_path = glob.glob(temp)\n",
    "        for j, i in enumerate(img_path):\n",
    "            img = Image.open(i)\n",
    "            img.save(os.path.join(save_path[idx], f'{item}_{j}.png'))"
   ]
  },
  {
   "cell_type": "code",
   "execution_count": null,
   "id": "27bcde1e-7ef4-49e6-9074-2a12e97d19d9",
   "metadata": {},
   "outputs": [],
   "source": []
  }
 ],
 "metadata": {
  "kernelspec": {
   "display_name": "Python 3 (ipykernel)",
   "language": "python",
   "name": "python3"
  },
  "language_info": {
   "codemirror_mode": {
    "name": "ipython",
    "version": 3
   },
   "file_extension": ".py",
   "mimetype": "text/x-python",
   "name": "python",
   "nbconvert_exporter": "python",
   "pygments_lexer": "ipython3",
   "version": "3.7.13"
  }
 },
 "nbformat": 4,
 "nbformat_minor": 5
}
